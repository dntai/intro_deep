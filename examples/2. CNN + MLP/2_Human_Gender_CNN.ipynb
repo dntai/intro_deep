{
 "cells": [
  {
   "cell_type": "code",
   "execution_count": 34,
   "metadata": {},
   "outputs": [],
   "source": [
    "# Nguyen Hai Duong\n",
    "# nhduong_3010@live.com\n",
    "# Chonnam National University\n",
    "# 2018.01.21"
   ]
  },
  {
   "cell_type": "markdown",
   "metadata": {},
   "source": [
    "# Import libraries"
   ]
  },
  {
   "cell_type": "code",
   "execution_count": 9,
   "metadata": {},
   "outputs": [],
   "source": [
    "import keras\n",
    "from keras.datasets import mnist\n",
    "from keras.models import Model\n",
    "from keras.layers import Input, Flatten, Dense, Dropout\n",
    "from keras.optimizers import SGD\n",
    "\n",
    "import time\n",
    "import numpy as np\n",
    "import matplotlib.pyplot as plt"
   ]
  },
  {
   "cell_type": "code",
   "execution_count": 3,
   "metadata": {},
   "outputs": [],
   "source": [
    "num_classes = 10   # 10 classes: 0, 1,..., 9"
   ]
  },
  {
   "cell_type": "markdown",
   "metadata": {},
   "source": [
    "# (1) Data"
   ]
  },
  {
   "cell_type": "code",
   "execution_count": 4,
   "metadata": {},
   "outputs": [
    {
     "name": "stdout",
     "output_type": "stream",
     "text": [
      "60000 train samples\n",
      "10000 test samples\n"
     ]
    }
   ],
   "source": [
    "# the data, shuffled and split between train and test sets\n",
    "(x_train, y_train), (x_test, y_test) = mnist.load_data()\n",
    "\n",
    "x_train = x_train.reshape(60000, 28, 28)\n",
    "x_test = x_test.reshape(10000, 28, 28)\n",
    "x_train = x_train.astype('float32')\n",
    "x_test = x_test.astype('float32')\n",
    "x_train /= 255\n",
    "x_test /= 255\n",
    "print(x_train.shape[0], 'train samples')\n",
    "print(x_test.shape[0], 'test samples')\n",
    "\n",
    "# convert class vectors to binary class matrices\n",
    "y_train = keras.utils.to_categorical(y_train, num_classes)\n",
    "y_test = keras.utils.to_categorical(y_test, num_classes)"
   ]
  },
  {
   "cell_type": "markdown",
   "metadata": {},
   "source": [
    "# (2) Declare model"
   ]
  },
  {
   "cell_type": "code",
   "execution_count": 5,
   "metadata": {},
   "outputs": [
    {
     "name": "stdout",
     "output_type": "stream",
     "text": [
      "_________________________________________________________________\n",
      "Layer (type)                 Output Shape              Param #   \n",
      "=================================================================\n",
      "Input (InputLayer)           (None, 28, 28)            0         \n",
      "_________________________________________________________________\n",
      "flatten (Flatten)            (None, 784)               0         \n",
      "_________________________________________________________________\n",
      "fc1 (Dense)                  (None, 512)               401920    \n",
      "_________________________________________________________________\n",
      "dropout1 (Dropout)           (None, 512)               0         \n",
      "_________________________________________________________________\n",
      "fc2 (Dense)                  (None, 512)               262656    \n",
      "_________________________________________________________________\n",
      "dropout2 (Dropout)           (None, 512)               0         \n",
      "_________________________________________________________________\n",
      "fc3_10ways_softmax (Dense)   (None, 10)                5130      \n",
      "=================================================================\n",
      "Total params: 669,706\n",
      "Trainable params: 669,706\n",
      "Non-trainable params: 0\n",
      "_________________________________________________________________\n"
     ]
    }
   ],
   "source": [
    "# 28x28 MNIST image\n",
    "input_image = Input(shape=(28, 28), name='Input')\n",
    "\n",
    "# matrix ---> vector\n",
    "x = Flatten(name='flatten')(input_image)\n",
    "\n",
    "# FC layers + dropout\n",
    "x = Dense(units=512, activation='relu', name='fc1')(x)\n",
    "x = Dropout(rate=0.2, name='dropout1')(x)\n",
    "\n",
    "x = Dense(units=512, activation='relu', name='fc2')(x)\n",
    "x = Dropout(rate=0.2, name='dropout2')(x)\n",
    "\n",
    "output_label = Dense(units=num_classes, activation='softmax', name='fc3_10ways_softmax')(x)\n",
    "\n",
    "# define model\n",
    "model = Model(inputs=input_image, outputs=output_label, name='mnist_mlp')\n",
    "\n",
    "# print model summary\n",
    "model.summary()"
   ]
  },
  {
   "cell_type": "markdown",
   "metadata": {},
   "source": [
    "# (3) Train defined model\n",
    "- Note that the training history including loss and accuracy will be save in 'history' variable\n",
    "- In case your system runs out of memory (OOM), try to decrease batch size"
   ]
  },
  {
   "cell_type": "code",
   "execution_count": 40,
   "metadata": {},
   "outputs": [
    {
     "name": "stdout",
     "output_type": "stream",
     "text": [
      "Train on 60000 samples, validate on 10000 samples\n",
      "Epoch 1/30\n",
      "60000/60000 [==============================] - 3s 57us/step - loss: 1.2237 - acc: 0.6756 - val_loss: 0.5462 - val_acc: 0.8630\n",
      "Epoch 2/30\n",
      "60000/60000 [==============================] - 3s 47us/step - loss: 0.5363 - acc: 0.8468 - val_loss: 0.3791 - val_acc: 0.8965\n",
      "Epoch 3/30\n",
      "60000/60000 [==============================] - 3s 48us/step - loss: 0.4318 - acc: 0.8745 - val_loss: 0.3262 - val_acc: 0.9072\n",
      "Epoch 4/30\n",
      "60000/60000 [==============================] - 3s 49us/step - loss: 0.3814 - acc: 0.8895 - val_loss: 0.2971 - val_acc: 0.9147\n",
      "Epoch 5/30\n",
      "60000/60000 [==============================] - 3s 47us/step - loss: 0.3462 - acc: 0.9001 - val_loss: 0.2764 - val_acc: 0.9204\n",
      "Epoch 6/30\n",
      "60000/60000 [==============================] - 3s 48us/step - loss: 0.3233 - acc: 0.9061 - val_loss: 0.2590 - val_acc: 0.9244\n",
      "Epoch 7/30\n",
      "60000/60000 [==============================] - 3s 48us/step - loss: 0.3013 - acc: 0.9122 - val_loss: 0.2439 - val_acc: 0.9295\n",
      "Epoch 8/30\n",
      "60000/60000 [==============================] - 3s 48us/step - loss: 0.2859 - acc: 0.9181 - val_loss: 0.2312 - val_acc: 0.9327\n",
      "Epoch 9/30\n",
      "60000/60000 [==============================] - 3s 48us/step - loss: 0.2721 - acc: 0.9217 - val_loss: 0.2207 - val_acc: 0.9361\n",
      "Epoch 10/30\n",
      "60000/60000 [==============================] - 3s 48us/step - loss: 0.2608 - acc: 0.9247 - val_loss: 0.2109 - val_acc: 0.9389\n",
      "Epoch 11/30\n",
      "60000/60000 [==============================] - 3s 47us/step - loss: 0.2469 - acc: 0.9290 - val_loss: 0.2008 - val_acc: 0.9409\n",
      "Epoch 12/30\n",
      "60000/60000 [==============================] - 3s 48us/step - loss: 0.2363 - acc: 0.9320 - val_loss: 0.1924 - val_acc: 0.9435\n",
      "Epoch 13/30\n",
      "60000/60000 [==============================] - 3s 49us/step - loss: 0.2244 - acc: 0.9361 - val_loss: 0.1850 - val_acc: 0.9457\n",
      "Epoch 14/30\n",
      "60000/60000 [==============================] - 3s 49us/step - loss: 0.2159 - acc: 0.9374 - val_loss: 0.1792 - val_acc: 0.9484\n",
      "Epoch 15/30\n",
      "60000/60000 [==============================] - 3s 50us/step - loss: 0.2090 - acc: 0.9400 - val_loss: 0.1727 - val_acc: 0.9495\n",
      "Epoch 16/30\n",
      "60000/60000 [==============================] - 3s 47us/step - loss: 0.2008 - acc: 0.9417 - val_loss: 0.1662 - val_acc: 0.9514\n",
      "Epoch 17/30\n",
      "60000/60000 [==============================] - 3s 49us/step - loss: 0.1960 - acc: 0.9431 - val_loss: 0.1605 - val_acc: 0.9528\n",
      "Epoch 18/30\n",
      "60000/60000 [==============================] - 3s 47us/step - loss: 0.1886 - acc: 0.9457 - val_loss: 0.1561 - val_acc: 0.9538\n",
      "Epoch 19/30\n",
      "60000/60000 [==============================] - 3s 49us/step - loss: 0.1821 - acc: 0.9471 - val_loss: 0.1512 - val_acc: 0.9557\n",
      "Epoch 20/30\n",
      "60000/60000 [==============================] - 3s 46us/step - loss: 0.1772 - acc: 0.9489 - val_loss: 0.1468 - val_acc: 0.9568\n",
      "Epoch 21/30\n",
      "60000/60000 [==============================] - 3s 44us/step - loss: 0.1711 - acc: 0.9501 - val_loss: 0.1426 - val_acc: 0.9576\n",
      "Epoch 22/30\n",
      "60000/60000 [==============================] - 3s 45us/step - loss: 0.1668 - acc: 0.9515 - val_loss: 0.1388 - val_acc: 0.9602\n",
      "Epoch 23/30\n",
      "60000/60000 [==============================] - 3s 45us/step - loss: 0.1631 - acc: 0.9527 - val_loss: 0.1357 - val_acc: 0.9605\n",
      "Epoch 24/30\n",
      "60000/60000 [==============================] - 3s 46us/step - loss: 0.1571 - acc: 0.9549 - val_loss: 0.1332 - val_acc: 0.9614\n",
      "Epoch 25/30\n",
      "60000/60000 [==============================] - 3s 47us/step - loss: 0.1542 - acc: 0.9554 - val_loss: 0.1302 - val_acc: 0.9620\n",
      "Epoch 26/30\n",
      "60000/60000 [==============================] - 3s 49us/step - loss: 0.1502 - acc: 0.9568 - val_loss: 0.1271 - val_acc: 0.9631\n",
      "Epoch 27/30\n",
      "60000/60000 [==============================] - 3s 46us/step - loss: 0.1474 - acc: 0.9578 - val_loss: 0.1242 - val_acc: 0.9639\n",
      "Epoch 28/30\n",
      "60000/60000 [==============================] - 3s 44us/step - loss: 0.1432 - acc: 0.9580 - val_loss: 0.1211 - val_acc: 0.9647\n",
      "Epoch 29/30\n",
      "60000/60000 [==============================] - 3s 48us/step - loss: 0.1390 - acc: 0.9588 - val_loss: 0.1188 - val_acc: 0.9651\n",
      "Epoch 30/30\n",
      "60000/60000 [==============================] - 3s 49us/step - loss: 0.1351 - acc: 0.9607 - val_loss: 0.1174 - val_acc: 0.9655\n",
      "> training time is 1.4402 minutes\n"
     ]
    }
   ],
   "source": [
    "# declare learning rate, loss function, and model metric\n",
    "loss = 'categorical_crossentropy'\n",
    "lr = 0.01\n",
    "model.compile(loss=loss, optimizer=SGD(lr=lr), metrics=['accuracy'])\n",
    "\n",
    "# train the model\n",
    "batch_size = 128\n",
    "epochs = 30\n",
    "\n",
    "starting_time = time.time()\n",
    "history = model.fit(x_train, y_train,\n",
    "                    validation_data=(x_test, y_test),\n",
    "                    batch_size=batch_size,\n",
    "                    epochs=epochs)\n",
    "print('> training time is %.4f minutes' % ((time.time() - starting_time)/60))"
   ]
  },
  {
   "cell_type": "markdown",
   "metadata": {},
   "source": [
    "### Training time\n",
    "- Training time with GTX 1080 is about 1.4402 minutes for 30 epoches\n",
    "- Training time with Core i7 is around 3.0493 minutes for 30 epoches"
   ]
  },
  {
   "cell_type": "markdown",
   "metadata": {},
   "source": [
    "# (4) Evaluate trained model"
   ]
  },
  {
   "cell_type": "code",
   "execution_count": 7,
   "metadata": {},
   "outputs": [
    {
     "name": "stdout",
     "output_type": "stream",
     "text": [
      "10000/10000 [==============================] - 1s 61us/step\n",
      "Test loss: 0.11284465673938393\n",
      "Test accuracy: 0.9657\n"
     ]
    }
   ],
   "source": [
    "score = model.evaluate(x_test, y_test)\n",
    "print('Test loss:', score[0])\n",
    "print('Test accuracy:', score[1])"
   ]
  },
  {
   "cell_type": "code",
   "execution_count": 32,
   "metadata": {},
   "outputs": [
    {
     "data": {
      "image/png": "[encoded data removed]",
      "text/plain": [
       "<matplotlib.figure.Figure at 0x1e003c51128>"
      ]
     },
     "metadata": {},
     "output_type": "display_data"
    }
   ],
   "source": [
    "# select a test image randomly\n",
    "random_test_index = np.random.choice(x_test.shape[0], size=1)[0]\n",
    "test_img = x_test[random_test_index]\n",
    "test_label = np.argmax(y_test[random_test_index])\n",
    "\n",
    "# predict test image with trained model\n",
    "pred_label = model.predict(np.expand_dims(test_img, axis=0))\n",
    "pred_label = np.argmax(pred_label)\n",
    "\n",
    "plt.imshow(test_img, cmap='gray')\n",
    "plt.title('true label = %d, predicted label = %d' % (test_label, pred_label))\n",
    "plt.show()"
   ]
  }
 ],
 "metadata": {
  "kernelspec": {
   "display_name": "Python [conda root]",
   "language": "python",
   "name": "conda-root-py"
  },
  "language_info": {
   "codemirror_mode": {
    "name": "ipython",
    "version": 3
   },
   "file_extension": ".py",
   "mimetype": "text/x-python",
   "name": "python",
   "nbconvert_exporter": "python",
   "pygments_lexer": "ipython3",
   "version": "3.5.1"
  }
 },
 "nbformat": 4,
 "nbformat_minor": 2
}
