{
 "cells": [
  {
   "cell_type": "code",
   "execution_count": 12,
   "metadata": {
    "collapsed": true
   },
   "outputs": [],
   "source": [
    "# Nguyen Hai Duong\n",
    "# nhduong_3010@live.com\n",
    "# 2017.08.24"
   ]
  },
  {
   "cell_type": "code",
   "execution_count": 34,
   "metadata": {},
   "outputs": [],
   "source": [
    "import numpy as np\n",
    "\n",
    "from tensorflow.contrib.keras.python.keras.callbacks import EarlyStopping\n",
    "from tensorflow.contrib.keras.python.keras.datasets import mnist\n",
    "from tensorflow.contrib.keras.python.keras.models import Sequential\n",
    "from tensorflow.contrib.keras.python.keras.layers.recurrent import SimpleRNN, LSTM, GRU\n",
    "from tensorflow.contrib.keras.python.keras.optimizers import RMSprop, Adadelta, Adam\n",
    "from tensorflow.contrib.keras.python.keras.layers import Conv2D\n",
    "from tensorflow.contrib.keras.python.keras.layers.core import Dense, Activation, Dropout, Reshape, Flatten\n",
    "from tensorflow.contrib.keras.python.keras.layers.wrappers import TimeDistributed\n",
    "from tensorflow.contrib.keras.python.keras.models import model_from_json\n",
    "\n",
    "import matplotlib.pyplot as plt"
   ]
  },
  {
   "cell_type": "markdown",
   "metadata": {},
   "source": [
    "# Network parameters"
   ]
  },
  {
   "cell_type": "code",
   "execution_count": 51,
   "metadata": {},
   "outputs": [],
   "source": [
    "np.random.seed(2016)  \n",
    "batch_size = 128\n",
    "nb_epochs = 1000\n",
    "examplesPer = 60000\n",
    "maxToAdd = 8\n",
    "size = 28"
   ]
  },
  {
   "cell_type": "markdown",
   "metadata": {},
   "source": [
    "# MNIST data"
   ]
  },
  {
   "cell_type": "code",
   "execution_count": 3,
   "metadata": {},
   "outputs": [
    {
     "name": "stdout",
     "output_type": "stream",
     "text": [
      "X_train_raw shape: (60000, 28, 28)\n",
      "60000 train samples\n",
      "10000 test samples\n"
     ]
    }
   ],
   "source": [
    "# the data, shuffled and split between train and test sets\n",
    "(X_train_raw, y_train_temp), (X_test_raw, y_test_temp) = mnist.load_data()\n",
    "\n",
    "#basic image processing\n",
    "X_train_raw = X_train_raw.astype('float32')\n",
    "X_test_raw  = X_test_raw.astype('float32')\n",
    "X_train_raw /= 255\n",
    "X_test_raw  /= 255\n",
    "\n",
    "print('X_train_raw shape:', X_train_raw.shape)\n",
    "print(X_train_raw.shape[0], 'train samples')\n",
    "print(X_test_raw.shape[0], 'test samples')"
   ]
  },
  {
   "cell_type": "code",
   "execution_count": 4,
   "metadata": {},
   "outputs": [
    {
     "name": "stdout",
     "output_type": "stream",
     "text": [
      "X_train shape:  (60000, 8, 28, 28, 1)\n",
      "y_train shape:  (60000,)\n",
      "X_test shape:  (60000, 8, 28, 28, 1)\n",
      "y_test shape:  (60000,)\n"
     ]
    }
   ],
   "source": [
    "X_train = []\n",
    "y_train = []\n",
    "X_test = []\n",
    "y_test = []\n",
    "\n",
    "X_train = np.zeros((examplesPer, maxToAdd, size, size, 1))\n",
    "\n",
    "for i in range(0, examplesPer):\n",
    "    #initialize a training example of max_num_time_steps, im_size, im_size\n",
    "    output = np.zeros((maxToAdd, size, size, 1))\n",
    "    #decide how many MNIST images to put in that tensor\n",
    "    numToAdd = int(np.ceil(np.random.rand()*maxToAdd))\n",
    "    #sample that many images\n",
    "    indices = np.random.choice(X_train_raw.shape[0], size=numToAdd)\n",
    "    example = X_train_raw[indices]\n",
    "    #sum up the outputs for new output\n",
    "    exampleY = y_train_temp[indices]\n",
    "    output[0:numToAdd,:,:,0] = example\n",
    "    X_train[i, :, :, :, :] = output\n",
    "    y_train.append(np.sum(exampleY))\n",
    "\n",
    "y_train = np.array(y_train)\n",
    "\n",
    "print(\"X_train shape: \", X_train.shape)\n",
    "print(\"y_train shape: \", y_train.shape)\n",
    "\n",
    "#Test the model\n",
    "X_test = np.zeros((examplesPer, maxToAdd, size, size, 1))\n",
    "for i in range(0, examplesPer):\n",
    "    output = np.zeros((maxToAdd, size, size, 1))\n",
    "    numToAdd = int(np.ceil(np.random.rand()*maxToAdd))\n",
    "    indices = np.random.choice(X_test_raw.shape[0], size=numToAdd)\n",
    "    example = X_test_raw[indices]\n",
    "    exampleY = y_test_temp[indices]\n",
    "    output[0:numToAdd,:,:,0] = example\n",
    "    X_test[i, :, :, :, :] = output\n",
    "    y_test.append(np.sum(exampleY))\n",
    "\n",
    "X_test = np.array(X_test)\n",
    "y_test = np.array(y_test)\n",
    "\n",
    "print(\"X_test shape: \", X_test.shape)\n",
    "print(\"y_test shape: \", y_test.shape)"
   ]
  },
  {
   "cell_type": "markdown",
   "metadata": {},
   "source": [
    "# Model: CNN + LSTM"
   ]
  },
  {
   "cell_type": "code",
   "execution_count": 52,
   "metadata": {},
   "outputs": [
    {
     "name": "stdout",
     "output_type": "stream",
     "text": [
      "_________________________________________________________________\n",
      "Layer (type)                 Output Shape              Param #   \n",
      "=================================================================\n",
      "time_distributed_22 (TimeDis (None, 8, 25, 25, 8)      136       \n",
      "_________________________________________________________________\n",
      "activation_22 (Activation)   (None, 8, 25, 25, 8)      0         \n",
      "_________________________________________________________________\n",
      "time_distributed_23 (TimeDis (None, 8, 23, 23, 16)     1168      \n",
      "_________________________________________________________________\n",
      "activation_23 (Activation)   (None, 8, 23, 23, 16)     0         \n",
      "_________________________________________________________________\n",
      "time_distributed_24 (TimeDis (None, 8, 8464)           0         \n",
      "_________________________________________________________________\n",
      "activation_24 (Activation)   (None, 8, 8464)           0         \n",
      "_________________________________________________________________\n",
      "lstm_11 (LSTM)               (None, None, 100)         3426000   \n",
      "_________________________________________________________________\n",
      "lstm_12 (LSTM)               (None, 50)                30200     \n",
      "_________________________________________________________________\n",
      "dropout_8 (Dropout)          (None, 50)                0         \n",
      "_________________________________________________________________\n",
      "dense_8 (Dense)              (None, 1)                 51        \n",
      "=================================================================\n",
      "Total params: 3,457,555.0\n",
      "Trainable params: 3,457,555.0\n",
      "Non-trainable params: 0.0\n",
      "_________________________________________________________________\n",
      "None\n"
     ]
    }
   ],
   "source": [
    "model = Sequential()\n",
    "model.add(TimeDistributed(Conv2D(8, (4, 4), padding='valid'), input_shape=(maxToAdd, size, size, 1)))\n",
    "model.add(Activation('relu'))\n",
    "model.add(TimeDistributed(Conv2D(16, (3, 3), padding='valid')))\n",
    "model.add(Activation('relu'))\n",
    "model.add(TimeDistributed(Flatten()))\n",
    "model.add(Activation('relu'))\n",
    "model.add(LSTM(units=100, return_sequences=True))\n",
    "model.add(LSTM(units=50, return_sequences=False))\n",
    "model.add(Dropout(.2))\n",
    "model.add(Dense(1))\n",
    "\n",
    "print(model.summary())"
   ]
  },
  {
   "cell_type": "markdown",
   "metadata": {},
   "source": [
    "# Compile model"
   ]
  },
  {
   "cell_type": "code",
   "execution_count": 53,
   "metadata": {},
   "outputs": [],
   "source": [
    "adam = Adam(lr=0.0001)\n",
    "model.compile(loss='mean_absolute_error', optimizer=adam)"
   ]
  },
  {
   "cell_type": "markdown",
   "metadata": {},
   "source": [
    "# Training"
   ]
  },
  {
   "cell_type": "code",
   "execution_count": 54,
   "metadata": {
    "scrolled": true
   },
   "outputs": [
    {
     "name": "stdout",
     "output_type": "stream",
     "text": [
      "Train on 60000 samples, validate on 60000 samples\n",
      "Epoch 1/1000\n",
      "60000/60000 [==============================] - 41s - loss: 12.5210 - val_loss: 10.3359\n",
      "Epoch 2/1000\n",
      "60000/60000 [==============================] - 38s - loss: 9.5628 - val_loss: 8.6996\n",
      "Epoch 3/1000\n",
      "60000/60000 [==============================] - 38s - loss: 8.1235 - val_loss: 7.3811\n",
      "Epoch 4/1000\n",
      "60000/60000 [==============================] - 38s - loss: 6.9277 - val_loss: 6.2561\n",
      "Epoch 5/1000\n",
      "60000/60000 [==============================] - 38s - loss: 5.9354 - val_loss: 5.3330\n",
      "Epoch 6/1000\n",
      "60000/60000 [==============================] - 37s - loss: 5.1161 - val_loss: 4.5804\n",
      "Epoch 7/1000\n",
      "60000/60000 [==============================] - 38s - loss: 4.4261 - val_loss: 3.9840\n",
      "Epoch 8/1000\n",
      "60000/60000 [==============================] - 38s - loss: 3.8701 - val_loss: 3.3904\n",
      "Epoch 9/1000\n",
      "60000/60000 [==============================] - 38s - loss: 3.4024 - val_loss: 2.9480\n",
      "Epoch 10/1000\n",
      "60000/60000 [==============================] - 38s - loss: 3.0286 - val_loss: 2.6142\n",
      "Epoch 11/1000\n",
      "60000/60000 [==============================] - 37s - loss: 2.7168 - val_loss: 2.3310\n",
      "Epoch 12/1000\n",
      "60000/60000 [==============================] - 38s - loss: 2.4696 - val_loss: 2.0598\n",
      "Epoch 13/1000\n",
      "60000/60000 [==============================] - 38s - loss: 2.2577 - val_loss: 1.8801\n",
      "Epoch 14/1000\n",
      "60000/60000 [==============================] - 38s - loss: 2.1020 - val_loss: 1.7436\n",
      "Epoch 15/1000\n",
      "60000/60000 [==============================] - 39s - loss: 1.9604 - val_loss: 1.5990\n",
      "Epoch 16/1000\n",
      "60000/60000 [==============================] - 37s - loss: 1.8529 - val_loss: 1.5717\n",
      "Epoch 17/1000\n",
      "60000/60000 [==============================] - 38s - loss: 1.7924 - val_loss: 1.3953\n",
      "Epoch 18/1000\n",
      "60000/60000 [==============================] - 38s - loss: 1.7116 - val_loss: 1.3307\n",
      "Epoch 19/1000\n",
      "60000/60000 [==============================] - 37s - loss: 1.6492 - val_loss: 1.2800\n",
      "Epoch 20/1000\n",
      "60000/60000 [==============================] - 37s - loss: 1.6134 - val_loss: 1.2809\n",
      "Epoch 21/1000\n",
      "60000/60000 [==============================] - 37s - loss: 1.5694 - val_loss: 1.2144\n",
      "Epoch 22/1000\n",
      "60000/60000 [==============================] - 38s - loss: 1.5363 - val_loss: 1.1781\n",
      "Epoch 23/1000\n",
      "60000/60000 [==============================] - 38s - loss: 1.5147 - val_loss: 1.1810\n",
      "Epoch 24/1000\n",
      "60000/60000 [==============================] - 38s - loss: 1.4870 - val_loss: 1.1754\n",
      "Epoch 25/1000\n",
      "60000/60000 [==============================] - 37s - loss: 1.4648 - val_loss: 1.1260\n",
      "Epoch 26/1000\n",
      "60000/60000 [==============================] - 38s - loss: 1.4513 - val_loss: 1.0860\n",
      "Epoch 27/1000\n",
      "60000/60000 [==============================] - 38s - loss: 1.4307 - val_loss: 1.1409\n",
      "Epoch 28/1000\n",
      "60000/60000 [==============================] - 37s - loss: 1.4155 - val_loss: 1.0674\n",
      "Epoch 29/1000\n",
      "60000/60000 [==============================] - 37s - loss: 1.4057 - val_loss: 1.0675\n",
      "Epoch 30/1000\n",
      "60000/60000 [==============================] - 37s - loss: 1.3975 - val_loss: 1.0347\n",
      "Epoch 31/1000\n",
      "60000/60000 [==============================] - 38s - loss: 1.3700 - val_loss: 1.0639\n",
      "Epoch 32/1000\n",
      "60000/60000 [==============================] - 37s - loss: 1.3682 - val_loss: 1.0657\n",
      "Epoch 33/1000\n",
      "60000/60000 [==============================] - 38s - loss: 1.3593 - val_loss: 1.0537\n",
      "Epoch 34/1000\n",
      "60000/60000 [==============================] - 38s - loss: 1.3470 - val_loss: 0.9991\n",
      "Epoch 35/1000\n",
      "60000/60000 [==============================] - 37s - loss: 1.3449 - val_loss: 1.0045\n",
      "Epoch 36/1000\n",
      "60000/60000 [==============================] - 38s - loss: 1.3400 - val_loss: 1.0037\n",
      "Epoch 37/1000\n",
      "60000/60000 [==============================] - 37s - loss: 1.3399 - val_loss: 0.9714\n",
      "Epoch 38/1000\n",
      "60000/60000 [==============================] - 38s - loss: 1.3174 - val_loss: 0.9699\n",
      "Epoch 39/1000\n",
      "60000/60000 [==============================] - 37s - loss: 1.3064 - val_loss: 1.0203\n",
      "Epoch 40/1000\n",
      "60000/60000 [==============================] - 38s - loss: 1.3027 - val_loss: 0.9654\n",
      "Epoch 41/1000\n",
      "60000/60000 [==============================] - 37s - loss: 1.2909 - val_loss: 0.9489\n",
      "Epoch 42/1000\n",
      "60000/60000 [==============================] - 38s - loss: 1.2895 - val_loss: 1.0629\n",
      "Epoch 43/1000\n",
      "60000/60000 [==============================] - 38s - loss: 1.2887 - val_loss: 0.9499\n",
      "Epoch 44/1000\n",
      "60000/60000 [==============================] - 38s - loss: 1.2773 - val_loss: 1.0128\n",
      "Epoch 45/1000\n",
      "60000/60000 [==============================] - 38s - loss: 1.2725 - val_loss: 0.9587\n",
      "Epoch 00044: early stopping\n"
     ]
    }
   ],
   "source": [
    "early_stopping = EarlyStopping(monitor='val_loss', verbose=1, patience=3)\n",
    "\n",
    "history = model.fit(X_train, y_train,\n",
    "          validation_data=(X_test, y_test),\n",
    "          batch_size=batch_size, epochs=nb_epochs, verbose=1,\n",
    "          callbacks=[early_stopping])    "
   ]
  },
  {
   "cell_type": "code",
   "execution_count": 55,
   "metadata": {},
   "outputs": [
    {
     "data": {
      "image/png": "[encoded data removed]",
      "text/plain": [
       "<matplotlib.figure.Figure at 0x256cb70ef60>"
      ]
     },
     "metadata": {},
     "output_type": "display_data"
    }
   ],
   "source": [
    "history_ = history.history\n",
    "plt.plot(history_['loss'])\n",
    "plt.plot(history_['val_loss'])\n",
    "plt.title('model loss')\n",
    "plt.ylabel('loss')\n",
    "plt.xlabel('epoch')\n",
    "plt.legend(['train', 'test'], loc='upper left')\n",
    "plt.show()"
   ]
  },
  {
   "cell_type": "markdown",
   "metadata": {},
   "source": [
    "# Testing"
   ]
  },
  {
   "cell_type": "code",
   "execution_count": 56,
   "metadata": {
    "scrolled": true
   },
   "outputs": [
    {
     "data": {
      "image/png": "[encoded data removed]",
      "text/plain": [
       "<matplotlib.figure.Figure at 0x256cbf540f0>"
      ]
     },
     "metadata": {},
     "output_type": "display_data"
    },
    {
     "name": "stdout",
     "output_type": "stream",
     "text": [
      "12 ~ 12.3572\n"
     ]
    }
   ],
   "source": [
    "indx = int(np.ceil(np.random.rand()*examplesPer))\n",
    "test_ins = X_test[indx]\n",
    "\n",
    "img_indx = 0\n",
    "plt.subplot(2, 4, img_indx + 1)\n",
    "plt.axis('off')\n",
    "plt.imshow(X_test[indx][img_indx][:, :, 0], cmap='gray')\n",
    "\n",
    "img_indx += 1\n",
    "plt.subplot(2, 4, img_indx + 1)\n",
    "plt.axis('off')\n",
    "plt.imshow(X_test[indx][img_indx][:, :, 0], cmap='gray')\n",
    "\n",
    "img_indx += 1\n",
    "plt.subplot(2, 4, img_indx + 1)\n",
    "plt.axis('off')\n",
    "plt.imshow(X_test[indx][img_indx][:, :, 0], cmap='gray')\n",
    "\n",
    "img_indx += 1\n",
    "plt.subplot(2, 4, img_indx + 1)\n",
    "plt.axis('off')\n",
    "plt.imshow(X_test[indx][img_indx][:, :, 0], cmap='gray')\n",
    "\n",
    "img_indx += 1\n",
    "plt.subplot(2, 4, img_indx + 1)\n",
    "plt.axis('off')\n",
    "plt.imshow(X_test[indx][img_indx][:, :, 0], cmap='gray')\n",
    "\n",
    "img_indx += 1\n",
    "plt.subplot(2, 4, img_indx + 1)\n",
    "plt.axis('off')\n",
    "plt.imshow(X_test[indx][img_indx][:, :, 0], cmap='gray')\n",
    "\n",
    "img_indx += 1\n",
    "plt.subplot(2, 4, img_indx + 1)\n",
    "plt.axis('off')\n",
    "plt.imshow(X_test[indx][img_indx][:, :, 0], cmap='gray')\n",
    "\n",
    "img_indx += 1\n",
    "plt.subplot(2, 4, img_indx + 1)\n",
    "plt.axis('off')\n",
    "plt.imshow(X_test[indx][img_indx][:, :, 0], cmap='gray')\n",
    "\n",
    "plt.show()\n",
    "\n",
    "test_ins = np.expand_dims(test_ins, axis=0)\n",
    "\n",
    "preds = model.predict(test_ins)\n",
    "print(str(y_test[indx]) + ' ~ ' + str(preds[0][0]))"
   ]
  },
  {
   "cell_type": "code",
   "execution_count": null,
   "metadata": {},
   "outputs": [],
   "source": []
  }
 ],
 "metadata": {
  "anaconda-cloud": {},
  "kernelspec": {
   "display_name": "Python [conda root]",
   "language": "python",
   "name": "conda-root-py"
  },
  "language_info": {
   "codemirror_mode": {
    "name": "ipython",
    "version": 3
   },
   "file_extension": ".py",
   "mimetype": "text/x-python",
   "name": "python",
   "nbconvert_exporter": "python",
   "pygments_lexer": "ipython3",
   "version": "3.5.2"
  }
 },
 "nbformat": 4,
 "nbformat_minor": 1
}
