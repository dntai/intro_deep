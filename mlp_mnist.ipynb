{
 "cells": [
  {
   "cell_type": "markdown",
   "metadata": {},
   "source": [
    "# Import libraries"
   ]
  },
  {
   "cell_type": "code",
   "execution_count": 1,
   "metadata": {},
   "outputs": [
    {
     "name": "stderr",
     "output_type": "stream",
     "text": [
      "Using TensorFlow backend.\n"
     ]
    }
   ],
   "source": [
    "import keras\n",
    "from keras.datasets import mnist\n",
    "from keras.models import Sequential\n",
    "from keras.layers import Dense, Dropout\n",
    "from keras.optimizers import RMSprop"
   ]
  },
  {
   "cell_type": "markdown",
   "metadata": {},
   "source": [
    "# "
   ]
  },
  {
   "cell_type": "code",
   "execution_count": 2,
   "metadata": {
    "collapsed": true
   },
   "outputs": [],
   "source": [
    "batch_size = 128\n",
    "num_classes = 10\n",
    "epochs = 20"
   ]
  },
  {
   "cell_type": "markdown",
   "metadata": {},
   "source": [
    "# Data"
   ]
  },
  {
   "cell_type": "code",
   "execution_count": 3,
   "metadata": {},
   "outputs": [
    {
     "name": "stdout",
     "output_type": "stream",
     "text": [
      "60000 train samples\n",
      "10000 test samples\n"
     ]
    }
   ],
   "source": [
    "# the data, shuffled and split between train and test sets\n",
    "(x_train, y_train), (x_test, y_test) = mnist.load_data()\n",
    "\n",
    "x_train = x_train.reshape(60000, 784)\n",
    "x_test = x_test.reshape(10000, 784)\n",
    "x_train = x_train.astype('float32')\n",
    "x_test = x_test.astype('float32')\n",
    "x_train /= 255\n",
    "x_test /= 255\n",
    "print(x_train.shape[0], 'train samples')\n",
    "print(x_test.shape[0], 'test samples')\n",
    "\n",
    "# convert class vectors to binary class matrices\n",
    "y_train = keras.utils.to_categorical(y_train, num_classes)\n",
    "y_test = keras.utils.to_categorical(y_test, num_classes)"
   ]
  },
  {
   "cell_type": "markdown",
   "metadata": {},
   "source": [
    "# MLP"
   ]
  },
  {
   "cell_type": "code",
   "execution_count": 4,
   "metadata": {
    "scrolled": true
   },
   "outputs": [
    {
     "name": "stdout",
     "output_type": "stream",
     "text": [
      "_________________________________________________________________\n",
      "Layer (type)                 Output Shape              Param #   \n",
      "=================================================================\n",
      "dense_1 (Dense)              (None, 512)               401920    \n",
      "_________________________________________________________________\n",
      "dropout_1 (Dropout)          (None, 512)               0         \n",
      "_________________________________________________________________\n",
      "dense_2 (Dense)              (None, 512)               262656    \n",
      "_________________________________________________________________\n",
      "dropout_2 (Dropout)          (None, 512)               0         \n",
      "_________________________________________________________________\n",
      "dense_3 (Dense)              (None, 10)                5130      \n",
      "=================================================================\n",
      "Total params: 669,706\n",
      "Trainable params: 669,706\n",
      "Non-trainable params: 0\n",
      "_________________________________________________________________\n"
     ]
    }
   ],
   "source": [
    "model = Sequential()\n",
    "model.add(Dense(512, activation='relu', input_shape=(784,)))\n",
    "model.add(Dropout(0.2))\n",
    "model.add(Dense(512, activation='relu'))\n",
    "model.add(Dropout(0.2))\n",
    "model.add(Dense(num_classes, activation='softmax'))\n",
    "\n",
    "model.summary()"
   ]
  },
  {
   "cell_type": "markdown",
   "metadata": {},
   "source": [
    "# Training & testing"
   ]
  },
  {
   "cell_type": "code",
   "execution_count": 5,
   "metadata": {},
   "outputs": [
    {
     "name": "stdout",
     "output_type": "stream",
     "text": [
      "Train on 60000 samples, validate on 10000 samples\n",
      "Epoch 1/20\n",
      "60000/60000 [==============================] - 3s - loss: 0.2469 - acc: 0.9231 - val_loss: 0.1316 - val_acc: 0.9585\n",
      "Epoch 2/20\n",
      "60000/60000 [==============================] - 2s - loss: 0.1006 - acc: 0.9696 - val_loss: 0.0842 - val_acc: 0.9753\n",
      "Epoch 3/20\n",
      "60000/60000 [==============================] - 1s - loss: 0.0749 - acc: 0.9774 - val_loss: 0.0813 - val_acc: 0.9771\n",
      "Epoch 4/20\n",
      "60000/60000 [==============================] - 1s - loss: 0.0616 - acc: 0.9813 - val_loss: 0.0736 - val_acc: 0.9807\n",
      "Epoch 5/20\n",
      "60000/60000 [==============================] - 2s - loss: 0.0519 - acc: 0.9845 - val_loss: 0.0761 - val_acc: 0.9805\n",
      "Epoch 6/20\n",
      "60000/60000 [==============================] - 2s - loss: 0.0431 - acc: 0.9867 - val_loss: 0.0995 - val_acc: 0.9770\n",
      "Epoch 7/20\n",
      "60000/60000 [==============================] - 2s - loss: 0.0397 - acc: 0.9881 - val_loss: 0.0889 - val_acc: 0.9814\n",
      "Epoch 8/20\n",
      "60000/60000 [==============================] - 2s - loss: 0.0361 - acc: 0.9895 - val_loss: 0.0858 - val_acc: 0.9814\n",
      "Epoch 9/20\n",
      "60000/60000 [==============================] - 2s - loss: 0.0316 - acc: 0.9908 - val_loss: 0.0881 - val_acc: 0.9839\n",
      "Epoch 10/20\n",
      "60000/60000 [==============================] - 2s - loss: 0.0303 - acc: 0.9915 - val_loss: 0.0861 - val_acc: 0.9830\n",
      "Epoch 11/20\n",
      "60000/60000 [==============================] - 1s - loss: 0.0277 - acc: 0.9922 - val_loss: 0.0897 - val_acc: 0.9826\n",
      "Epoch 12/20\n",
      "60000/60000 [==============================] - 2s - loss: 0.0267 - acc: 0.9930 - val_loss: 0.1085 - val_acc: 0.9814\n",
      "Epoch 13/20\n",
      "60000/60000 [==============================] - 2s - loss: 0.0244 - acc: 0.9933 - val_loss: 0.0961 - val_acc: 0.9819\n",
      "Epoch 14/20\n",
      "60000/60000 [==============================] - 1s - loss: 0.0238 - acc: 0.9932 - val_loss: 0.0973 - val_acc: 0.9833\n",
      "Epoch 15/20\n",
      "60000/60000 [==============================] - 1s - loss: 0.0214 - acc: 0.9942 - val_loss: 0.1010 - val_acc: 0.9837\n",
      "Epoch 16/20\n",
      "60000/60000 [==============================] - 2s - loss: 0.0214 - acc: 0.9943 - val_loss: 0.1073 - val_acc: 0.9815\n",
      "Epoch 17/20\n",
      "60000/60000 [==============================] - 2s - loss: 0.0218 - acc: 0.9944 - val_loss: 0.1002 - val_acc: 0.9830\n",
      "Epoch 18/20\n",
      "60000/60000 [==============================] - 1s - loss: 0.0213 - acc: 0.9941 - val_loss: 0.1088 - val_acc: 0.9824\n",
      "Epoch 19/20\n",
      "60000/60000 [==============================] - 2s - loss: 0.0203 - acc: 0.9948 - val_loss: 0.1111 - val_acc: 0.9828\n",
      "Epoch 20/20\n",
      "60000/60000 [==============================] - 2s - loss: 0.0184 - acc: 0.9953 - val_loss: 0.1222 - val_acc: 0.9820\n",
      "Test loss: 0.122229803402\n",
      "Test accuracy: 0.982\n"
     ]
    }
   ],
   "source": [
    "model.compile(loss='categorical_crossentropy',\n",
    "              optimizer=RMSprop(),\n",
    "              metrics=['accuracy'])\n",
    "\n",
    "history = model.fit(x_train, y_train,\n",
    "                    batch_size=batch_size,\n",
    "                    epochs=epochs,\n",
    "                    verbose=1,\n",
    "                    validation_data=(x_test, y_test))\n",
    "score = model.evaluate(x_test, y_test, verbose=0)\n",
    "print('Test loss:', score[0])\n",
    "print('Test accuracy:', score[1])"
   ]
  },
  {
   "cell_type": "code",
   "execution_count": null,
   "metadata": {
    "collapsed": true
   },
   "outputs": [],
   "source": []
  }
 ],
 "metadata": {
  "anaconda-cloud": {},
  "kernelspec": {
   "display_name": "Python [conda root]",
   "language": "python",
   "name": "conda-root-py"
  },
  "language_info": {
   "codemirror_mode": {
    "name": "ipython",
    "version": 3
   },
   "file_extension": ".py",
   "mimetype": "text/x-python",
   "name": "python",
   "nbconvert_exporter": "python",
   "pygments_lexer": "ipython3",
   "version": "3.5.2"
  }
 },
 "nbformat": 4,
 "nbformat_minor": 1
}
